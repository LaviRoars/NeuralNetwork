{
 "cells": [
  {
   "cell_type": "code",
   "execution_count": 1,
   "metadata": {
    "collapsed": true
   },
   "outputs": [],
   "source": [
    "import numpy as np\n",
    "from sklearn.datasets import load_iris\n",
    "from sklearn.linear_model import Perceptron\n",
    "\n",
    "iris = load_iris()\n",
    "X = iris.data[:, (2, 3)]  # petal length, petal width\n",
    "y = (iris.target == 0).astype(np.int)\n",
    "\n",
    "per_clf = Perceptron(random_state=42)\n",
    "per_clf.fit(X, y)\n",
    "\n",
    "y_pred = per_clf.predict([[2, 0.5]])"
   ]
  },
  {
   "cell_type": "code",
   "execution_count": 29,
   "metadata": {},
   "outputs": [
    {
     "data": {
      "text/plain": [
       "array([1])"
      ]
     },
     "execution_count": 29,
     "metadata": {},
     "output_type": "execute_result"
    }
   ],
   "source": [
    "y_pred"
   ]
  },
  {
   "cell_type": "code",
   "execution_count": 1,
   "metadata": {},
   "outputs": [
    {
     "name": "stdout",
     "output_type": "stream",
     "text": [
      "Extracting /tmp/data/train-images-idx3-ubyte.gz\n",
      "Extracting /tmp/data/train-labels-idx1-ubyte.gz\n",
      "Extracting /tmp/data/t10k-images-idx3-ubyte.gz\n",
      "Extracting /tmp/data/t10k-labels-idx1-ubyte.gz\n"
     ]
    }
   ],
   "source": [
    "from tensorflow.examples.tutorials.mnist import input_data\n",
    "\n",
    "mnist = input_data.read_data_sets(\"/tmp/data/\")"
   ]
  },
  {
   "cell_type": "code",
   "execution_count": 2,
   "metadata": {
    "collapsed": true
   },
   "outputs": [],
   "source": [
    "X_train = mnist.train.images\n",
    "X_test = mnist.test.images\n",
    "y_train = mnist.train.labels.astype(\"int\")\n",
    "y_test = mnist.test.labels.astype(\"int\")"
   ]
  },
  {
   "cell_type": "code",
   "execution_count": 3,
   "metadata": {
    "collapsed": true
   },
   "outputs": [],
   "source": [
    "import tensorflow as tf\n",
    "\n",
    "n_inputs = 28*28  # MNIST\n",
    "n_hidden1 = 300\n",
    "n_hidden2 = 100\n",
    "n_outputs = 10"
   ]
  },
  {
   "cell_type": "code",
   "execution_count": 4,
   "metadata": {
    "collapsed": true
   },
   "outputs": [],
   "source": [
    "X = tf.placeholder(tf.float32, shape=(None, n_inputs), name=\"X\")\n",
    "y = tf.placeholder(tf.int64, shape=(None), name=\"y\")"
   ]
  },
  {
   "cell_type": "code",
   "execution_count": 5,
   "metadata": {
    "collapsed": true
   },
   "outputs": [],
   "source": [
    "from tensorflow.contrib.layers import fully_connected"
   ]
  },
  {
   "cell_type": "code",
   "execution_count": 6,
   "metadata": {
    "collapsed": true
   },
   "outputs": [],
   "source": [
    "with tf.name_scope(\"dnn\"):\n",
    "    hidden1 = fully_connected(X, n_hidden1, scope=\"hidden1\")\n",
    "    hidden2 = fully_connected(hidden1, n_hidden2, scope=\"hidden2\")\n",
    "    logits = fully_connected(hidden2, n_outputs, scope=\"outputs\",activation_fn=None)"
   ]
  },
  {
   "cell_type": "code",
   "execution_count": 7,
   "metadata": {
    "collapsed": true
   },
   "outputs": [],
   "source": [
    "with tf.name_scope(\"loss\"):\n",
    "    xentropy = tf.nn.sparse_softmax_cross_entropy_with_logits(labels=y,\n",
    "                                                              logits=logits)\n",
    "    loss = tf.reduce_mean(xentropy, name=\"loss\")"
   ]
  },
  {
   "cell_type": "code",
   "execution_count": 8,
   "metadata": {
    "collapsed": true
   },
   "outputs": [],
   "source": [
    "learning_rate = 0.01\n",
    "\n",
    "with tf.name_scope(\"train\"):\n",
    "    optimizer = tf.train.GradientDescentOptimizer(learning_rate)\n",
    "    training_op = optimizer.minimize(loss)"
   ]
  },
  {
   "cell_type": "code",
   "execution_count": 9,
   "metadata": {
    "collapsed": true
   },
   "outputs": [],
   "source": [
    "with tf.name_scope(\"eval\"):\n",
    "    correct = tf.nn.in_top_k(logits, y, 1)\n",
    "    accuracy = tf.reduce_mean(tf.cast(correct, tf.float32))"
   ]
  },
  {
   "cell_type": "code",
   "execution_count": 10,
   "metadata": {
    "collapsed": true
   },
   "outputs": [],
   "source": [
    "init = tf.global_variables_initializer()\n",
    "saver = tf.train.Saver()"
   ]
  },
  {
   "cell_type": "code",
   "execution_count": 11,
   "metadata": {
    "collapsed": true
   },
   "outputs": [],
   "source": [
    "n_epochs = 40\n",
    "batch_size = 50"
   ]
  },
  {
   "cell_type": "code",
   "execution_count": 12,
   "metadata": {},
   "outputs": [
    {
     "name": "stdout",
     "output_type": "stream",
     "text": [
      "0 Train accuracy: 0.98 Test accuracy: 0.9021\n",
      "1 Train accuracy: 0.94 Test accuracy: 0.918\n",
      "2 Train accuracy: 0.94 Test accuracy: 0.9292\n",
      "3 Train accuracy: 0.94 Test accuracy: 0.938\n",
      "4 Train accuracy: 0.96 Test accuracy: 0.9426\n",
      "5 Train accuracy: 0.94 Test accuracy: 0.9461\n",
      "6 Train accuracy: 0.96 Test accuracy: 0.9511\n",
      "7 Train accuracy: 0.92 Test accuracy: 0.9538\n",
      "8 Train accuracy: 0.96 Test accuracy: 0.9562\n",
      "9 Train accuracy: 0.94 Test accuracy: 0.9594\n",
      "10 Train accuracy: 0.96 Test accuracy: 0.9604\n",
      "11 Train accuracy: 0.98 Test accuracy: 0.9624\n",
      "12 Train accuracy: 1.0 Test accuracy: 0.9634\n",
      "13 Train accuracy: 0.98 Test accuracy: 0.9656\n",
      "14 Train accuracy: 0.98 Test accuracy: 0.9656\n",
      "15 Train accuracy: 0.98 Test accuracy: 0.9671\n",
      "16 Train accuracy: 1.0 Test accuracy: 0.9681\n",
      "17 Train accuracy: 1.0 Test accuracy: 0.9695\n",
      "18 Train accuracy: 1.0 Test accuracy: 0.9693\n",
      "19 Train accuracy: 0.98 Test accuracy: 0.9692\n",
      "20 Train accuracy: 0.98 Test accuracy: 0.9716\n",
      "21 Train accuracy: 1.0 Test accuracy: 0.9714\n",
      "22 Train accuracy: 0.96 Test accuracy: 0.9713\n",
      "23 Train accuracy: 1.0 Test accuracy: 0.9711\n",
      "24 Train accuracy: 1.0 Test accuracy: 0.9728\n",
      "25 Train accuracy: 0.98 Test accuracy: 0.9723\n",
      "26 Train accuracy: 0.98 Test accuracy: 0.9742\n",
      "27 Train accuracy: 0.98 Test accuracy: 0.9746\n",
      "28 Train accuracy: 0.96 Test accuracy: 0.974\n",
      "29 Train accuracy: 1.0 Test accuracy: 0.9749\n",
      "30 Train accuracy: 1.0 Test accuracy: 0.9755\n",
      "31 Train accuracy: 1.0 Test accuracy: 0.9746\n",
      "32 Train accuracy: 1.0 Test accuracy: 0.9753\n",
      "33 Train accuracy: 1.0 Test accuracy: 0.9755\n",
      "34 Train accuracy: 1.0 Test accuracy: 0.9752\n",
      "35 Train accuracy: 0.98 Test accuracy: 0.9748\n",
      "36 Train accuracy: 1.0 Test accuracy: 0.9768\n",
      "37 Train accuracy: 1.0 Test accuracy: 0.9743\n",
      "38 Train accuracy: 1.0 Test accuracy: 0.9741\n",
      "39 Train accuracy: 1.0 Test accuracy: 0.9765\n"
     ]
    }
   ],
   "source": [
    "with tf.Session() as sess:\n",
    "    init.run()\n",
    "    for epoch in range(n_epochs):\n",
    "        for iteration in range(mnist.train.num_examples // batch_size):\n",
    "            X_batch, y_batch = mnist.train.next_batch(batch_size)\n",
    "            sess.run(training_op, feed_dict={X: X_batch, y: y_batch})\n",
    "        acc_train = accuracy.eval(feed_dict={X: X_batch, y: y_batch})\n",
    "        acc_test = accuracy.eval(feed_dict={X: mnist.test.images,\n",
    "                                            y: mnist.test.labels})\n",
    "        print(epoch, \"Train accuracy:\", acc_train, \"Test accuracy:\", acc_test)\n",
    "\n",
    "    save_path = saver.save(sess, \"./my_model_final.ckpt\")"
   ]
  },
  {
   "cell_type": "code",
   "execution_count": null,
   "metadata": {
    "collapsed": true
   },
   "outputs": [],
   "source": []
  }
 ],
 "metadata": {
  "kernelspec": {
   "display_name": "Python 3",
   "language": "python",
   "name": "python3"
  },
  "language_info": {
   "codemirror_mode": {
    "name": "ipython",
    "version": 3
   },
   "file_extension": ".py",
   "mimetype": "text/x-python",
   "name": "python",
   "nbconvert_exporter": "python",
   "pygments_lexer": "ipython3",
   "version": "3.6.3"
  }
 },
 "nbformat": 4,
 "nbformat_minor": 2
}
